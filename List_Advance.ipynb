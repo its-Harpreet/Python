{
 "cells": [
  {
   "cell_type": "markdown",
   "metadata": {},
   "source": [
    "## What To Learn\n",
    "- comprehension\n",
    "- lambda ,map and filter"
   ]
  },
  {
   "cell_type": "markdown",
   "metadata": {},
   "source": [
    "If you are doing a program where you need to get a List of data from an **Existing data** by performing **some functions** on existing data, then you can use the concept of comprehension, map/filter to make your code smaller and faster."
   ]
  },
  {
   "cell_type": "code",
   "execution_count": 1,
   "metadata": {},
   "outputs": [
    {
     "name": "stdout",
     "output_type": "stream",
     "text": [
      "[6, 7, 8, 9, 10, 11, 12]\n"
     ]
    }
   ],
   "source": [
    "x=[1,2,3,4,5,6,7]\n",
    "x1=[]\n",
    "for i in x:\n",
    "    o=i+5\n",
    "    x1.append(o)\n",
    "print(x1)"
   ]
  },
  {
   "cell_type": "markdown",
   "metadata": {},
   "source": [
    "## Comprehension Syntax\n",
    "- Simple\n",
    "  ``` \n",
    "  newlist=[operation loop]\n",
    "  ```\n",
    "- Condition based\n",
    "  ```\n",
    "  newlist=[operation loop condition]\n",
    "  ```"
   ]
  },
  {
   "cell_type": "code",
   "execution_count": 16,
   "metadata": {},
   "outputs": [
    {
     "name": "stdout",
     "output_type": "stream",
     "text": [
      "[7, 8, 9, 10, 11, 12, 13]\n"
     ]
    }
   ],
   "source": [
    "## Normal Version\n",
    "x2=[i+6 for i in x ]\n",
    "print(x2)\n"
   ]
  },
  {
   "cell_type": "code",
   "execution_count": 3,
   "metadata": {},
   "outputs": [
    {
     "name": "stdout",
     "output_type": "stream",
     "text": [
      "[-6, -5, -4, -3, -2, -1, 0]\n"
     ]
    }
   ],
   "source": [
    "## Comprehensive Version\n",
    "x3=[i-7 for i in x]\n",
    "print(x3)"
   ]
  },
  {
   "cell_type": "code",
   "execution_count": 8,
   "metadata": {},
   "outputs": [
    {
     "name": "stdout",
     "output_type": "stream",
     "text": [
      "[4, 16, 36, 64]\n"
     ]
    }
   ],
   "source": [
    "## Normal Version\n",
    "x4=[1,2,3,4,5,6,7,8]\n",
    "xo=[]\n",
    "for i in x4:\n",
    "    if i% 2==0:\n",
    "        o=i*i\n",
    "        xo.append(o)\n",
    "print(xo)\n"
   ]
  },
  {
   "cell_type": "code",
   "execution_count": 17,
   "metadata": {},
   "outputs": [
    {
     "name": "stdout",
     "output_type": "stream",
     "text": [
      "[4, 16, 36, 64]\n"
     ]
    }
   ],
   "source": [
    "## Comprehensive Version\n",
    "xo= [i*i for i in x4 if i%2==0]\n",
    "print(xo)"
   ]
  },
  {
   "cell_type": "code",
   "execution_count": 18,
   "metadata": {},
   "outputs": [
    {
     "name": "stdout",
     "output_type": "stream",
     "text": [
      "[-9, -7, -5, -3]\n"
     ]
    }
   ],
   "source": [
    "## Comprehensive Version\n",
    "xo=[i-10 for i in x4 if (i%2)!=0 ]\n",
    "print(xo)"
   ]
  },
  {
   "cell_type": "code",
   "execution_count": 22,
   "metadata": {},
   "outputs": [
    {
     "name": "stdout",
     "output_type": "stream",
     "text": [
      "[1, 2, 3, 4, 5, 6, 7, 8]\n"
     ]
    }
   ],
   "source": [
    "print(x4)"
   ]
  },
  {
   "cell_type": "code",
   "execution_count": 23,
   "metadata": {},
   "outputs": [
    {
     "name": "stdout",
     "output_type": "stream",
     "text": [
      "['Singh', 'Shukla', 'Mishra', 'Tiwari', 'Karki']\n"
     ]
    }
   ],
   "source": [
    "## Normal Version\n",
    "names=[\"Harpreet Singh\",\"Ujjwal Shukla\",\"Vinita Mishra\",\"Mayank Tiwari\",\"Harshita Karki\"]\n",
    "surname=[]\n",
    "for n in names:\n",
    "    sn=n.split()[-1]\n",
    "    surname.append(sn)\n",
    "print(surname)"
   ]
  },
  {
   "cell_type": "code",
   "execution_count": 24,
   "metadata": {},
   "outputs": [
    {
     "data": {
      "text/plain": [
       "['Singh', 'Shukla', 'Mishra', 'Tiwari', 'Karki']"
      ]
     },
     "execution_count": 24,
     "metadata": {},
     "output_type": "execute_result"
    }
   ],
   "source": [
    "## Comprehensive Version\n",
    "names=[\"Harpreet Singh\",\"Ujjwal Shukla\",\"Vinita Mishra\",\"Mayank Tiwari\",\"Harshita Karki\"]\n",
    "surnames=[n.split()[-1] for n in names ]\n",
    "surnames"
   ]
  },
  {
   "cell_type": "code",
   "execution_count": 25,
   "metadata": {},
   "outputs": [
    {
     "name": "stdout",
     "output_type": "stream",
     "text": [
      "harpreet\n",
      "ujjwal\n",
      "oman\n"
     ]
    }
   ],
   "source": [
    "emp=[]\n",
    "for i in range (4):\n",
    "    name=input(\"Enter Employee Name\")\n",
    "    emp.append(name)\n",
    "    if 'a'in name:\n",
    "        print(name)\n",
    "    \n",
    "\n"
   ]
  },
  {
   "cell_type": "code",
   "execution_count": 27,
   "metadata": {},
   "outputs": [
    {
     "name": "stdout",
     "output_type": "stream",
     "text": [
      "harpreet\n",
      "ujjwal\n",
      "oman\n"
     ]
    }
   ],
   "source": [
    "name=[print(i) for i in emp if 'a' in i]\n"
   ]
  },
  {
   "cell_type": "code",
   "execution_count": null,
   "metadata": {},
   "outputs": [],
   "source": []
  }
 ],
 "metadata": {
  "interpreter": {
   "hash": "2fd9cc27d9bf4d20671b5b4c540425e6506e6451922df5de5e3faf06e0a14a94"
  },
  "kernelspec": {
   "display_name": "Python 3.9.10 ('base')",
   "language": "python",
   "name": "python3"
  },
  "language_info": {
   "codemirror_mode": {
    "name": "ipython",
    "version": 3
   },
   "file_extension": ".py",
   "mimetype": "text/x-python",
   "name": "python",
   "nbconvert_exporter": "python",
   "pygments_lexer": "ipython3",
   "version": "3.9.10"
  },
  "orig_nbformat": 4
 },
 "nbformat": 4,
 "nbformat_minor": 2
}
