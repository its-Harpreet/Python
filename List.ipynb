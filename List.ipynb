{
 "cells": [
  {
   "cell_type": "markdown",
   "metadata": {},
   "source": [
    "## List\n",
    "- uses [ ]\n",
    "- Mutable\n",
    "- Heterogenous(mixed data can be stored)\n",
    "- Contain Duplicate Values\n",
    "- Indexed and can be Sliced\n",
    " "
   ]
  },
  {
   "cell_type": "markdown",
   "metadata": {},
   "source": [
    "#### Creating List"
   ]
  },
  {
   "cell_type": "code",
   "execution_count": 29,
   "metadata": {},
   "outputs": [
    {
     "name": "stdout",
     "output_type": "stream",
     "text": [
      "['Earth', 'is', 'Gol']\n"
     ]
    }
   ],
   "source": [
    "factors=[5, 10,15,]\n",
    "\n",
    "nest=[[2,24,56,98], \"Prince\", 14.6]\n",
    "\n",
    "fact=\"Earth is Gol\"\n",
    "words=fact.split()\n",
    "print(words)\n"
   ]
  },
  {
   "cell_type": "code",
   "execution_count": 30,
   "metadata": {},
   "outputs": [
    {
     "name": "stdout",
     "output_type": "stream",
     "text": [
      "[2, 2, 2, 2, 2, 2, 2, 2, 2, 2]\n"
     ]
    }
   ],
   "source": [
    "x=[2] *10\n",
    "print(x)"
   ]
  },
  {
   "cell_type": "code",
   "execution_count": 31,
   "metadata": {},
   "outputs": [
    {
     "name": "stdout",
     "output_type": "stream",
     "text": [
      "[10, 'Pup', 5.963]\n"
     ]
    }
   ],
   "source": [
    "a=10\n",
    "b=\"Pup\"\n",
    "c=5.963\n",
    "\n",
    "l=[a,b,c]\n",
    "print(l)"
   ]
  },
  {
   "cell_type": "code",
   "execution_count": 32,
   "metadata": {},
   "outputs": [],
   "source": [
    "kharche=[]\n"
   ]
  },
  {
   "cell_type": "code",
   "execution_count": 33,
   "metadata": {},
   "outputs": [
    {
     "name": "stdout",
     "output_type": "stream",
     "text": [
      "['Dog Food 420', 'Chaap roll 120']\n"
     ]
    }
   ],
   "source": [
    "kharche.append(\"Dog Food 420\")\n",
    "kharche.append(\"Chaap roll 120\")\n",
    "\n",
    "print(kharche)\n"
   ]
  },
  {
   "cell_type": "code",
   "execution_count": 34,
   "metadata": {},
   "outputs": [
    {
     "name": "stdout",
     "output_type": "stream",
     "text": [
      "['', '', '']\n"
     ]
    }
   ],
   "source": [
    "favFood= []\n",
    "for i in range(3) :\n",
    "    food=input(\"Enter your Favourite food\" )\n",
    "    favFood.append(food)\n",
    "print (favFood)\n"
   ]
  },
  {
   "cell_type": "code",
   "execution_count": 35,
   "metadata": {},
   "outputs": [
    {
     "data": {
      "text/plain": [
       "'l'"
      ]
     },
     "execution_count": 35,
     "metadata": {},
     "output_type": "execute_result"
    }
   ],
   "source": [
    "fact[-1]"
   ]
  },
  {
   "cell_type": "code",
   "execution_count": 36,
   "metadata": {},
   "outputs": [
    {
     "data": {
      "text/plain": [
       "'i'"
      ]
     },
     "execution_count": 36,
     "metadata": {},
     "output_type": "execute_result"
    }
   ],
   "source": [
    "fact[6]"
   ]
  },
  {
   "cell_type": "markdown",
   "metadata": {},
   "source": [
    "### Functions\n",
    "- Adding Items\n",
    "- Deleting Items\n"
   ]
  },
  {
   "cell_type": "code",
   "execution_count": 37,
   "metadata": {},
   "outputs": [
    {
     "data": {
      "text/plain": [
       "['Apple', 'Banana', 'Cherry', 'Guava']"
      ]
     },
     "execution_count": 37,
     "metadata": {},
     "output_type": "execute_result"
    }
   ],
   "source": [
    "fruits=[]\n",
    "fruits.append(\"Apple\")\n",
    "fruits.append(\"Banana\")\n",
    "fruits.append(\"Cherry\")\n",
    "fruits.append(\"Guava\")\n",
    "fruits"
   ]
  },
  {
   "cell_type": "markdown",
   "metadata": {},
   "source": [
    "## Insert\n"
   ]
  },
  {
   "cell_type": "code",
   "execution_count": 38,
   "metadata": {},
   "outputs": [
    {
     "data": {
      "text/plain": [
       "['Apple', 'Banana', 'Cherry', 'Avacado', 'DragonFruit', 'Fig', 'Guava', 'Kiwi']"
      ]
     },
     "execution_count": 38,
     "metadata": {},
     "output_type": "execute_result"
    }
   ],
   "source": [
    "fruits.insert(-1,\"Fig\")\n",
    "fruits.insert(-2,\"DragonFruit\")\n",
    "fruits.insert(3,\"Avacado\")\n",
    "\n",
    "fruits.insert(1000,\"Kiwi\")\n",
    "\n",
    "fruits"
   ]
  },
  {
   "cell_type": "code",
   "execution_count": 39,
   "metadata": {},
   "outputs": [
    {
     "data": {
      "text/plain": [
       "['Almonds', 'Cashew0', 'Walnuts']"
      ]
     },
     "execution_count": 39,
     "metadata": {},
     "output_type": "execute_result"
    }
   ],
   "source": [
    "dryFruits=[\"Almonds\",\"Cashew0\",\"Walnuts\"]\n",
    "dryFruits"
   ]
  },
  {
   "cell_type": "markdown",
   "metadata": {},
   "source": [
    "# Extend"
   ]
  },
  {
   "cell_type": "code",
   "execution_count": 40,
   "metadata": {},
   "outputs": [
    {
     "data": {
      "text/plain": [
       "['Apple',\n",
       " 'Banana',\n",
       " 'Cherry',\n",
       " 'Avacado',\n",
       " 'DragonFruit',\n",
       " 'Fig',\n",
       " 'Guava',\n",
       " 'Kiwi',\n",
       " 'Almonds',\n",
       " 'Cashew0',\n",
       " 'Walnuts']"
      ]
     },
     "execution_count": 40,
     "metadata": {},
     "output_type": "execute_result"
    }
   ],
   "source": [
    "fruits.extend(dryFruits)\n",
    "fruits\n",
    "\n"
   ]
  },
  {
   "cell_type": "markdown",
   "metadata": {},
   "source": [
    "# Remove"
   ]
  },
  {
   "cell_type": "code",
   "execution_count": 41,
   "metadata": {},
   "outputs": [
    {
     "name": "stdout",
     "output_type": "stream",
     "text": [
      "['Apple', 'Banana', 'Cherry', 'Avacado', 'DragonFruit', 'Fig', 'Guava', 'Almonds', 'Cashew0', 'Walnuts']\n"
     ]
    }
   ],
   "source": [
    "if \"Kiwi\" in fruits:\n",
    "    fruits.remove(\"Kiwi\")\n",
    "    print(fruits)\n",
    "else:\n",
    "    print(\"Not Found\")"
   ]
  },
  {
   "cell_type": "code",
   "execution_count": 42,
   "metadata": {},
   "outputs": [
    {
     "ename": "ValueError",
     "evalue": "list.remove(x): x not in list",
     "output_type": "error",
     "traceback": [
      "\u001b[1;31m---------------------------------------------------------------------------\u001b[0m",
      "\u001b[1;31mValueError\u001b[0m                                Traceback (most recent call last)",
      "Input \u001b[1;32mIn [42]\u001b[0m, in \u001b[0;36m<module>\u001b[1;34m\u001b[0m\n\u001b[1;32m----> 1\u001b[0m \u001b[43mfruits\u001b[49m\u001b[38;5;241;43m.\u001b[39;49m\u001b[43mremove\u001b[49m\u001b[43m(\u001b[49m\u001b[38;5;124;43m\"\u001b[39;49m\u001b[38;5;124;43mPapaya\u001b[39;49m\u001b[38;5;124;43m\"\u001b[39;49m\u001b[43m)\u001b[49m\n",
      "\u001b[1;31mValueError\u001b[0m: list.remove(x): x not in list"
     ]
    }
   ],
   "source": [
    "fruits.remove(\"Papaya\")"
   ]
  },
  {
   "cell_type": "code",
   "execution_count": null,
   "metadata": {},
   "outputs": [
    {
     "name": "stdout",
     "output_type": "stream",
     "text": [
      "[1, 2, 3, [1, 5, 6, 7]]\n"
     ]
    }
   ],
   "source": [
    "x=[1,2,3,[1,5,6,7]]\n",
    "print(x)"
   ]
  },
  {
   "cell_type": "code",
   "execution_count": null,
   "metadata": {},
   "outputs": [
    {
     "name": "stdout",
     "output_type": "stream",
     "text": [
      "[1, 2, 3, [1, 6, 7]]\n"
     ]
    }
   ],
   "source": [
    "if 5 in x[3]:\n",
    "    x[3].remove(5)\n",
    "else:\n",
    "    print(\"Not Found\")\n",
    "print(x)"
   ]
  },
  {
   "cell_type": "markdown",
   "metadata": {},
   "source": [
    "# POP\n",
    "- list.pop()      => removes the last value and gives us that value\n",
    "- list.pop(index) => removes the value from the index if index is valid and gives the value "
   ]
  },
  {
   "cell_type": "code",
   "execution_count": null,
   "metadata": {},
   "outputs": [
    {
     "name": "stdout",
     "output_type": "stream",
     "text": [
      "Removed Value =>  Avacado\n",
      "List =>  ['Apple', 'Banana', 'Cherry', 'Avacado', 'DragonFruit', 'Fig', 'DragonFruit', 'Fig', 'Guava', 'Almonds', 'Cashew0', 'Walnuts']\n"
     ]
    }
   ],
   "source": [
    "v=fruits.pop(3)\n",
    "print(\"Removed Value => \",v)\n",
    "print(\"List => \",fruits)"
   ]
  },
  {
   "cell_type": "code",
   "execution_count": null,
   "metadata": {},
   "outputs": [
    {
     "name": "stdout",
     "output_type": "stream",
     "text": [
      "Removed Value => Walnuts\n",
      "List =>  ['Apple', 'Banana', 'Cherry', 'Avacado', 'DragonFruit', 'Fig', 'DragonFruit', 'Fig', 'Guava', 'Almonds', 'Cashew0']\n"
     ]
    }
   ],
   "source": [
    "val=fruits.pop()\n",
    "print(\"Removed Value =>\",val)\n",
    "print(\"List => \",fruits)"
   ]
  },
  {
   "cell_type": "code",
   "execution_count": null,
   "metadata": {},
   "outputs": [
    {
     "ename": "TypeError",
     "evalue": "list.append() takes exactly one argument (2 given)",
     "output_type": "error",
     "traceback": [
      "\u001b[1;31m---------------------------------------------------------------------------\u001b[0m",
      "\u001b[1;31mTypeError\u001b[0m                                 Traceback (most recent call last)",
      "Input \u001b[1;32mIn [37]\u001b[0m, in \u001b[0;36m<module>\u001b[1;34m\u001b[0m\n\u001b[1;32m----> 1\u001b[0m \u001b[43mfruits\u001b[49m\u001b[38;5;241;43m.\u001b[39;49m\u001b[43mappend\u001b[49m\u001b[43m(\u001b[49m\u001b[38;5;124;43m\"\u001b[39;49m\u001b[38;5;124;43mx\u001b[39;49m\u001b[38;5;124;43m\"\u001b[39;49m\u001b[43m,\u001b[49m\u001b[38;5;124;43m\"\u001b[39;49m\u001b[38;5;124;43mY\u001b[39;49m\u001b[38;5;124;43m\"\u001b[39;49m\u001b[43m)\u001b[49m\n",
      "\u001b[1;31mTypeError\u001b[0m: list.append() takes exactly one argument (2 given)"
     ]
    }
   ],
   "source": [
    "fruits.append(\"x\",\"Y\")\n"
   ]
  },
  {
   "cell_type": "code",
   "execution_count": null,
   "metadata": {},
   "outputs": [],
   "source": [
    "movies=[\"Wolverine\",\"Deadpool\",\"Pirates Of Carrabean\",\"50 Shades of Grey\",\"Me Before You\",\"Ambarsariya\",\"Shada\",\"Qismat\",\"Kung Fu Panda\",\"How To Train Your Dragon\"]\n"
   ]
  },
  {
   "cell_type": "code",
   "execution_count": null,
   "metadata": {},
   "outputs": [
    {
     "data": {
      "text/plain": [
       "10"
      ]
     },
     "execution_count": 40,
     "metadata": {},
     "output_type": "execute_result"
    }
   ],
   "source": [
    "len(movies)"
   ]
  },
  {
   "cell_type": "markdown",
   "metadata": {},
   "source": [
    "# Reverse"
   ]
  },
  {
   "cell_type": "code",
   "execution_count": null,
   "metadata": {},
   "outputs": [
    {
     "name": "stdout",
     "output_type": "stream",
     "text": [
      "Normal => ['How To Train Your Dragon', 'Kung Fu Panda', 'Qismat', 'Shada', 'Ambarsariya', 'Me Before You', '50 Shades of Grey', 'Pirates Of Carrabean', 'Deadpool', 'Wolverine']\n",
      "Reverse => ['Wolverine', 'Deadpool', 'Pirates Of Carrabean', '50 Shades of Grey', 'Me Before You', 'Ambarsariya', 'Shada', 'Qismat', 'Kung Fu Panda', 'How To Train Your Dragon']\n"
     ]
    }
   ],
   "source": [
    "print(\"Normal =>\",movies)\n",
    "movies.reverse()\n",
    "print(\"Reverse =>\",movies)"
   ]
  },
  {
   "cell_type": "markdown",
   "metadata": {},
   "source": [
    "# Sort"
   ]
  },
  {
   "cell_type": "markdown",
   "metadata": {},
   "source": [
    "- ## Normal Sorting (A -> Z)"
   ]
  },
  {
   "cell_type": "code",
   "execution_count": null,
   "metadata": {},
   "outputs": [
    {
     "name": "stdout",
     "output_type": "stream",
     "text": [
      "After Sorting => ['50 Shades of Grey', 'Ambarsariya', 'Deadpool', 'How To Train Your Dragon', 'Kung Fu Panda', 'Me Before You', 'Pirates Of Carrabean', 'Qismat', 'Shada', 'Wolverine']\n"
     ]
    }
   ],
   "source": [
    "movies.sort()\n",
    "print(\"After Sorting =>\", movies)"
   ]
  },
  {
   "cell_type": "markdown",
   "metadata": {},
   "source": [
    "- ## Reverse Sorting (Z -> A)"
   ]
  },
  {
   "cell_type": "code",
   "execution_count": null,
   "metadata": {},
   "outputs": [
    {
     "name": "stdout",
     "output_type": "stream",
     "text": [
      "['Wolverine', 'Shada', 'Qismat', 'Pirates Of Carrabean', 'Me Before You', 'Kung Fu Panda', 'How To Train Your Dragon', 'Deadpool', 'Ambarsariya', '50 Shades of Grey']\n"
     ]
    }
   ],
   "source": [
    "movies.sort(reverse=True)\n",
    "print(movies)"
   ]
  },
  {
   "cell_type": "markdown",
   "metadata": {},
   "source": [
    "# Copy"
   ]
  },
  {
   "cell_type": "code",
   "execution_count": null,
   "metadata": {},
   "outputs": [
    {
     "name": "stdout",
     "output_type": "stream",
     "text": [
      "['Wolverine', 'Shada', 'Qismat', 'Pirates Of Carrabean', 'Me Before You', 'Kung Fu Panda', 'How To Train Your Dragon', 'Deadpool', 'Ambarsariya', '50 Shades of Grey']\n"
     ]
    }
   ],
   "source": [
    "dupMovies=movies.copy()\n",
    "print(dupMovies)"
   ]
  },
  {
   "cell_type": "markdown",
   "metadata": {},
   "source": [
    "# Index"
   ]
  },
  {
   "cell_type": "code",
   "execution_count": null,
   "metadata": {},
   "outputs": [
    {
     "name": "stdout",
     "output_type": "stream",
     "text": [
      "['Wolverine', 'Shada', 'Qismat', 'Pirates Of Carrabean', 'Me Before You', 'Kung Fu Panda', 'How To Train Your Dragon', 'Deadpool', 'Ambarsariya', '50 Shades of Grey']\n"
     ]
    },
    {
     "data": {
      "text/plain": [
       "4"
      ]
     },
     "execution_count": 46,
     "metadata": {},
     "output_type": "execute_result"
    }
   ],
   "source": [
    "print(movies)\n",
    "movies.index(\"Me Before You\")"
   ]
  },
  {
   "cell_type": "markdown",
   "metadata": {},
   "source": [
    "# Count"
   ]
  },
  {
   "cell_type": "code",
   "execution_count": null,
   "metadata": {},
   "outputs": [],
   "source": [
    "x= [1,1,1,2,13,3,6,5,6,5,4,1,26,84,85,22,3,2,2,3,1,5,8,5,2,3,8,4,65,8,9,36,2,2,5,4,8,]"
   ]
  },
  {
   "cell_type": "code",
   "execution_count": null,
   "metadata": {},
   "outputs": [
    {
     "data": {
      "text/plain": [
       "5"
      ]
     },
     "execution_count": 49,
     "metadata": {},
     "output_type": "execute_result"
    }
   ],
   "source": [
    "x.count(1)"
   ]
  },
  {
   "cell_type": "code",
   "execution_count": null,
   "metadata": {},
   "outputs": [
    {
     "data": {
      "text/plain": [
       "5"
      ]
     },
     "execution_count": 50,
     "metadata": {},
     "output_type": "execute_result"
    }
   ],
   "source": [
    "x.count(5)"
   ]
  },
  {
   "cell_type": "code",
   "execution_count": null,
   "metadata": {},
   "outputs": [
    {
     "data": {
      "text/plain": [
       "4"
      ]
     },
     "execution_count": 51,
     "metadata": {},
     "output_type": "execute_result"
    }
   ],
   "source": [
    "x.count(3)"
   ]
  },
  {
   "cell_type": "code",
   "execution_count": null,
   "metadata": {},
   "outputs": [
    {
     "name": "stdout",
     "output_type": "stream",
     "text": [
      "Enter 15 Numbers\n",
      "Mean = 3.466666666666667\n",
      "Total = 52\n",
      "Max = 6\n",
      "Min = 1\n"
     ]
    }
   ],
   "source": [
    "x=[]\n",
    "total=0\n",
    "mean=0\n",
    "c=0\n",
    "print(\"Enter 15 Numbers\")\n",
    "\n",
    "for i in range(15):\n",
    "    val=int(input(f\"Enter {i+1} Number\"))\n",
    "    x.append(val)\n",
    "\n",
    "total= sum(x)\n",
    "max=max(x)\n",
    "min=min(x)\n",
    "print(\"Mean =\", (total/len(x)))\n",
    "print(\"Total =\",total)\n",
    "print(\"Max =\", max)\n",
    "print(\"Min =\", min)\n",
    "\n",
    "    "
   ]
  },
  {
   "cell_type": "code",
   "execution_count": null,
   "metadata": {},
   "outputs": [],
   "source": []
  }
 ],
 "metadata": {
  "interpreter": {
   "hash": "2fd9cc27d9bf4d20671b5b4c540425e6506e6451922df5de5e3faf06e0a14a94"
  },
  "kernelspec": {
   "display_name": "Python 3.9.10 ('base')",
   "language": "python",
   "name": "python3"
  },
  "language_info": {
   "codemirror_mode": {
    "name": "ipython",
    "version": 3
   },
   "file_extension": ".py",
   "mimetype": "text/x-python",
   "name": "python",
   "nbconvert_exporter": "python",
   "pygments_lexer": "ipython3",
   "version": "3.9.10"
  },
  "orig_nbformat": 4
 },
 "nbformat": 4,
 "nbformat_minor": 2
}
