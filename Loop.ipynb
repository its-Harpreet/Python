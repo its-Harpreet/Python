{
 "cells": [
  {
   "cell_type": "code",
   "execution_count": 1,
   "metadata": {},
   "outputs": [
    {
     "name": "stdout",
     "output_type": "stream",
     "text": [
      "KGF\n",
      "Qismat\n",
      "Shada\n",
      "The End\n"
     ]
    }
   ],
   "source": [
    "movies=['KGF',\"Qismat\",\"Shada\"]\n",
    "for i in movies:\n",
    "    print(i)\n",
    "print(\"The End\")"
   ]
  },
  {
   "cell_type": "code",
   "execution_count": 2,
   "metadata": {},
   "outputs": [
    {
     "name": "stdout",
     "output_type": "stream",
     "text": [
      "0-KGF-length:3\n",
      "1-Qismat-length:6\n",
      "2-Shada-length:5\n"
     ]
    }
   ],
   "source": [
    "for i, name in enumerate(movies):\n",
    "    print(f\"{i}-{name}-length:{len (name)}\")"
   ]
  },
  {
   "cell_type": "code",
   "execution_count": 3,
   "metadata": {},
   "outputs": [
    {
     "name": "stdout",
     "output_type": "stream",
     "text": [
      "You Got point: 0\n",
      "You Got point: 1\n",
      "You Got point: 2\n",
      "You Got point: 3\n",
      "You Got point: 4\n",
      "You Got point: 5\n"
     ]
    }
   ],
   "source": [
    "for i in range (6):\n",
    "    print(\"You Got point:\",i)"
   ]
  },
  {
   "cell_type": "code",
   "execution_count": 4,
   "metadata": {},
   "outputs": [
    {
     "name": "stdout",
     "output_type": "stream",
     "text": [
      "Sheep 2\n",
      "Sheep 3\n",
      "Sheep 4\n",
      "Sheep 5\n",
      "Sheep 6\n",
      "Sheep 7\n",
      "Sheep 8\n",
      "Sheep 9\n",
      "Sheep 10\n"
     ]
    }
   ],
   "source": [
    "for num in range(2,11):\n",
    "    print(\"Sheep\", num)"
   ]
  },
  {
   "cell_type": "code",
   "execution_count": 5,
   "metadata": {},
   "outputs": [
    {
     "name": "stdout",
     "output_type": "stream",
     "text": [
      "level 1\n",
      "level 6\n",
      "level 11\n"
     ]
    }
   ],
   "source": [
    "for num in range(1,15,5):\n",
    "    print(\"level\",num)"
   ]
  },
  {
   "cell_type": "code",
   "execution_count": 6,
   "metadata": {},
   "outputs": [
    {
     "name": "stdout",
     "output_type": "stream",
     "text": [
      "10\n",
      "8\n",
      "6\n",
      "4\n"
     ]
    }
   ],
   "source": [
    "#Reverse Loop\n",
    "for num in range(10,3,-2):\n",
    "    print(num)"
   ]
  },
  {
   "cell_type": "code",
   "execution_count": 7,
   "metadata": {},
   "outputs": [
    {
     "name": "stdout",
     "output_type": "stream",
     "text": [
      "\n",
      "naja\n",
      "najanaja\n",
      "najanajanaja\n",
      "najanajanajanaja\n",
      "najanajanajanajanaja\n",
      "najanajanajanajanajanaja\n",
      "najanajanajanajanajanajanaja\n",
      "najanajanajanajanajanajanajanaja\n",
      "najanajanajanajanajanajanajanajanaja\n"
     ]
    }
   ],
   "source": [
    "#Pattern\n",
    "for i in range(10):\n",
    "    print(i*\"naja\")"
   ]
  },
  {
   "cell_type": "code",
   "execution_count": 8,
   "metadata": {},
   "outputs": [
    {
     "name": "stdout",
     "output_type": "stream",
     "text": [
      "0  is Even\n",
      "1  is Odd\n",
      "2  is Even\n",
      "3  is Odd\n",
      "4  is Even\n",
      "5  is Odd\n",
      "6  is Even\n",
      "7  is Odd\n",
      "8  is Even\n",
      "9  is Odd\n",
      "10  is Even\n",
      "11  is Odd\n",
      "12  is Even\n",
      "13  is Odd\n",
      "14  is Even\n",
      "15  is Odd\n",
      "16  is Even\n",
      "17  is Odd\n",
      "18  is Even\n",
      "19  is Odd\n",
      "20  is Even\n",
      "21  is Odd\n",
      "22  is Even\n",
      "23  is Odd\n",
      "24  is Even\n",
      "25  is Odd\n",
      "26  is Even\n",
      "27  is Odd\n",
      "28  is Even\n",
      "29  is Odd\n",
      "30  is Even\n",
      "31  is Odd\n",
      "32  is Even\n",
      "33  is Odd\n",
      "34  is Even\n",
      "35  is Odd\n",
      "36  is Even\n",
      "37  is Odd\n",
      "38  is Even\n",
      "39  is Odd\n",
      "40  is Even\n",
      "41  is Odd\n",
      "42  is Even\n",
      "43  is Odd\n",
      "44  is Even\n",
      "45  is Odd\n",
      "46  is Even\n",
      "47  is Odd\n",
      "48  is Even\n",
      "49  is Odd\n",
      "50  is Even\n",
      "51  is Odd\n",
      "52  is Even\n",
      "53  is Odd\n",
      "54  is Even\n",
      "55  is Odd\n",
      "56  is Even\n",
      "57  is Odd\n",
      "58  is Even\n",
      "59  is Odd\n",
      "60  is Even\n",
      "61  is Odd\n",
      "62  is Even\n",
      "63  is Odd\n",
      "64  is Even\n",
      "65  is Odd\n",
      "66  is Even\n",
      "67  is Odd\n",
      "68  is Even\n",
      "69  is Odd\n",
      "70  is Even\n",
      "71  is Odd\n",
      "72  is Even\n",
      "73  is Odd\n",
      "74  is Even\n",
      "75  is Odd\n",
      "76  is Even\n",
      "77  is Odd\n",
      "78  is Even\n",
      "79  is Odd\n",
      "80  is Even\n",
      "81  is Odd\n",
      "82  is Even\n",
      "83  is Odd\n",
      "84  is Even\n",
      "85  is Odd\n",
      "86  is Even\n",
      "87  is Odd\n",
      "88  is Even\n",
      "89  is Odd\n",
      "90  is Even\n",
      "91  is Odd\n",
      "92  is Even\n",
      "93  is Odd\n",
      "94  is Even\n",
      "95  is Odd\n",
      "96  is Even\n",
      "97  is Odd\n",
      "98  is Even\n",
      "99  is Odd\n",
      "100  is Even\n",
      "Thanks\n"
     ]
    }
   ],
   "source": [
    "for  i in range(101):\n",
    "    if(i%2==0):\n",
    "        print(i,\" is Even\")\n",
    "    else:\n",
    "        print(i, \" is Odd\")\n",
    "print(\"Thanks\")"
   ]
  },
  {
   "cell_type": "code",
   "execution_count": 9,
   "metadata": {},
   "outputs": [
    {
     "name": "stdout",
     "output_type": "stream",
     "text": [
      "Sum=  2550\n"
     ]
    }
   ],
   "source": [
    "sum =0\n",
    "for i in range(2,101,2):\n",
    "    sum=sum+i\n",
    "print(\"Sum= \",sum )\n"
   ]
  },
  {
   "cell_type": "code",
   "execution_count": 10,
   "metadata": {},
   "outputs": [
    {
     "name": "stdout",
     "output_type": "stream",
     "text": [
      "Average=  50.0\n"
     ]
    }
   ],
   "source": [
    "sum=0\n",
    "avg=0\n",
    "c=0\n",
    "for i in range(1,100,2):\n",
    "    c+=1\n",
    "    sum = sum +i\n",
    "avg=sum/c\n",
    "print(\"Average= \",avg)"
   ]
  },
  {
   "cell_type": "code",
   "execution_count": 11,
   "metadata": {},
   "outputs": [
    {
     "name": "stdout",
     "output_type": "stream",
     "text": [
      "1\t2\t3\t4\t5\t\n",
      "2\t4\t6\t8\t10\t\n",
      "3\t6\t9\t12\t15\t\n",
      "4\t8\t12\t16\t20\t\n",
      "5\t10\t15\t20\t25\t\n"
     ]
    }
   ],
   "source": [
    "for i in range(1,6):\n",
    "    for j in range(i,(i*5)+1,i):\n",
    "        print(j, end=('\\t'))\n",
    "    print()\n"
   ]
  },
  {
   "cell_type": "code",
   "execution_count": 12,
   "metadata": {},
   "outputs": [
    {
     "name": "stdout",
     "output_type": "stream",
     "text": [
      "run\n",
      "run\n",
      "run\n",
      "run\n",
      "Stop\n"
     ]
    }
   ],
   "source": [
    "x=1\n",
    "while x < 5:\n",
    "    print('run')\n",
    "    x+=1\n",
    "print(\"Stop\")"
   ]
  },
  {
   "cell_type": "code",
   "execution_count": null,
   "metadata": {},
   "outputs": [],
   "source": []
  }
 ],
 "metadata": {
  "interpreter": {
   "hash": "2fd9cc27d9bf4d20671b5b4c540425e6506e6451922df5de5e3faf06e0a14a94"
  },
  "kernelspec": {
   "display_name": "Python 3.9.10 64-bit ('base': conda)",
   "language": "python",
   "name": "python3"
  },
  "language_info": {
   "codemirror_mode": {
    "name": "ipython",
    "version": 3
   },
   "file_extension": ".py",
   "mimetype": "text/x-python",
   "name": "python",
   "nbconvert_exporter": "python",
   "pygments_lexer": "ipython3",
   "version": "3.9.10"
  },
  "orig_nbformat": 4
 },
 "nbformat": 4,
 "nbformat_minor": 2
}
