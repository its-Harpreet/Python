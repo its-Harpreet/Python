{
 "cells": [
  {
   "cell_type": "code",
   "execution_count": 1,
   "metadata": {},
   "outputs": [],
   "source": [
    "import requests \n",
    "from bs4 import BeautifulSoup\n",
    "import pandas as pd"
   ]
  },
  {
   "cell_type": "code",
   "execution_count": 2,
   "metadata": {},
   "outputs": [
    {
     "name": "stdout",
     "output_type": "stream",
     "text": [
      "Data is loaded\n"
     ]
    }
   ],
   "source": [
    "page='https://www.imdb.com/chart/boxoffice'\n",
    "response=requests.get(page)\n",
    "soup = BeautifulSoup(response.text,'lxml')\n",
    "print(\"Data is loaded\")\n"
   ]
  },
  {
   "cell_type": "code",
   "execution_count": 5,
   "metadata": {},
   "outputs": [],
   "source": [
    "target=soup.find('table', attrs={'class':'chart'}).tbody\n"
   ]
  },
  {
   "cell_type": "code",
   "execution_count": 7,
   "metadata": {},
   "outputs": [
    {
     "data": {
      "text/plain": [
       "10"
      ]
     },
     "execution_count": 7,
     "metadata": {},
     "output_type": "execute_result"
    }
   ],
   "source": [
    "rows=target.find_all('tr')\n",
    "len(rows)"
   ]
  },
  {
   "cell_type": "code",
   "execution_count": 11,
   "metadata": {},
   "outputs": [],
   "source": [
    "movies=[]\n",
    "for r in rows:\n",
    "    title= r.find('td',attrs={'class':'titleColumn'})\n",
    "    weekend= r.find('td',attrs={'class':'ratingColumn'})\n",
    "    gross=r.find_all('td',attrs={'class':\"ratingColumn\"})[-1]\n",
    "    week=r.find('td',attrs={'class':'weeksColumn'})\n",
    "    movies.append({\n",
    "        'Title':title.text.strip(),\n",
    "        'Weekend':weekend.text.strip(),\n",
    "        \"Gross\":gross.text.strip(),\n",
    "        'Week':week.text.strip()\n",
    "    })"
   ]
  },
  {
   "cell_type": "code",
   "execution_count": 13,
   "metadata": {},
   "outputs": [
    {
     "name": "stdout",
     "output_type": "stream",
     "text": [
      "                                         Title Weekend    Gross Week\n",
      "0  Fantastic Beasts: The Secrets of Dumbledore  $42.2M   $42.2M    1\n",
      "1                         Sonic the Hedgehog 2  $29.3M  $118.9M    2\n",
      "2                                The Lost City   $6.2M   $78.3M    4\n",
      "3            Everything Everywhere All at Once   $6.2M   $17.7M    4\n",
      "4                                   Father Stu   $5.4M    $7.7M    1\n",
      "5                                      Morbius   $4.7M   $65.1M    3\n",
      "6                                    Ambulance   $4.1M   $15.7M    2\n",
      "7                                   The Batman   $3.8M  $365.0M    7\n",
      "8                             K.G.F: Chapter 2   $2.9M    $2.9M    1\n",
      "9                                    Uncharted   $1.2M  $145.0M    9\n"
     ]
    }
   ],
   "source": [
    "data=pd.DataFrame(movies)\n",
    "##print(data)\n",
    "data.to_csv('boxOffice.csv',index=True)"
   ]
  },
  {
   "cell_type": "code",
   "execution_count": 6,
   "metadata": {},
   "outputs": [
    {
     "data": {
      "text/plain": [
       "<tbody>\n",
       "<tr>\n",
       "<td class=\"posterColumn\">\n",
       "<a href=\"/title/tt4123432\"> <img alt=\"Fantastic Beasts: The Secrets of Dumbledore\" height=\"67\" src=\"https://m.media-amazon.com/images/M/MV5BZGQ1NjQyNDMtNzFlZS00ZGIzLTliMWUtNGJkMGMzNTBjNDg0XkEyXkFqcGdeQXVyMTE1NDI5MDQx._V1_UY67_CR0,0,45,67_AL_.jpg\" width=\"45\"/>\n",
       "</a> </td><td class=\"titleColumn\">\n",
       "<a href=\"/title/tt4123432\" title=\"David Yates (dir.), Eddie Redmayne, Jude Law\">Fantastic Beasts: The Secrets of Dumbledore</a>\n",
       "</td>\n",
       "<td class=\"ratingColumn\">\n",
       "                            $42.2M\n",
       "                    </td>\n",
       "<td class=\"ratingColumn\">\n",
       "<span class=\"secondaryInfo\">$42.2M</span>\n",
       "</td>\n",
       "<td class=\"weeksColumn\">1</td>\n",
       "<td class=\"watchlistColumn\"><div class=\"wlb_ribbon\" data-tconst=\"tt4123432\"></div></td>\n",
       "</tr>\n",
       "<tr>\n",
       "<td class=\"posterColumn\">\n",
       "<a href=\"/title/tt12412888\"> <img alt=\"Sonic the Hedgehog 2\" height=\"67\" src=\"https://m.media-amazon.com/images/M/MV5BOGM2ZjEzNzQtNzhiNi00ZmFkLTgzZjItZmU4YTZjMTJmNmRhXkEyXkFqcGdeQXVyNDM1ODc2NzE@._V1_UY67_CR0,0,45,67_AL_.jpg\" width=\"45\"/>\n",
       "</a> </td><td class=\"titleColumn\">\n",
       "<a href=\"/title/tt12412888\" title=\"Jeff Fowler (dir.), James Marsden, Jim Carrey\">Sonic the Hedgehog 2</a>\n",
       "</td>\n",
       "<td class=\"ratingColumn\">\n",
       "                            $29.3M\n",
       "                    </td>\n",
       "<td class=\"ratingColumn\">\n",
       "<span class=\"secondaryInfo\">$118.9M</span>\n",
       "</td>\n",
       "<td class=\"weeksColumn\">2</td>\n",
       "<td class=\"watchlistColumn\"><div class=\"wlb_ribbon\" data-tconst=\"tt12412888\"></div></td>\n",
       "</tr>\n",
       "<tr>\n",
       "<td class=\"posterColumn\">\n",
       "<a href=\"/title/tt13320622\"> <img alt=\"The Lost City\" height=\"67\" src=\"https://m.media-amazon.com/images/M/MV5BMmIwYzFhODAtY2I1YS00ZDdmLTkyYWQtZjI5NDIwMDc2MjEyXkEyXkFqcGdeQXVyODk4OTc3MTY@._V1_UY67_CR0,0,45,67_AL_.jpg\" width=\"45\"/>\n",
       "</a> </td><td class=\"titleColumn\">\n",
       "<a href=\"/title/tt13320622\" title=\"Aaron Nee (dir.), Sandra Bullock, Channing Tatum\">The Lost City</a>\n",
       "</td>\n",
       "<td class=\"ratingColumn\">\n",
       "                            $6.2M\n",
       "                    </td>\n",
       "<td class=\"ratingColumn\">\n",
       "<span class=\"secondaryInfo\">$78.3M</span>\n",
       "</td>\n",
       "<td class=\"weeksColumn\">4</td>\n",
       "<td class=\"watchlistColumn\"><div class=\"wlb_ribbon\" data-tconst=\"tt13320622\"></div></td>\n",
       "</tr>\n",
       "<tr>\n",
       "<td class=\"posterColumn\">\n",
       "<a href=\"/title/tt6710474\"> <img alt=\"Everything Everywhere All at Once\" height=\"67\" src=\"https://m.media-amazon.com/images/M/MV5BYTdiOTIyZTQtNmQ1OS00NjZlLWIyMTgtYzk5Y2M3ZDVmMDk1XkEyXkFqcGdeQXVyMTAzMDg4NzU0._V1_UY67_CR0,0,45,67_AL_.jpg\" width=\"45\"/>\n",
       "</a> </td><td class=\"titleColumn\">\n",
       "<a href=\"/title/tt6710474\" title=\"Dan Kwan (dir.), Michelle Yeoh, Stephanie Hsu\">Everything Everywhere All at Once</a>\n",
       "</td>\n",
       "<td class=\"ratingColumn\">\n",
       "                            $6.2M\n",
       "                    </td>\n",
       "<td class=\"ratingColumn\">\n",
       "<span class=\"secondaryInfo\">$17.7M</span>\n",
       "</td>\n",
       "<td class=\"weeksColumn\">4</td>\n",
       "<td class=\"watchlistColumn\"><div class=\"wlb_ribbon\" data-tconst=\"tt6710474\"></div></td>\n",
       "</tr>\n",
       "<tr>\n",
       "<td class=\"posterColumn\">\n",
       "<a href=\"/title/tt14439896\"> <img alt=\"Father Stu\" height=\"67\" src=\"https://m.media-amazon.com/images/M/MV5BNGYwOTI1MTUtYmY0Mi00OTAxLTkwNDEtOTI5YTkyZTVhN2JiXkEyXkFqcGdeQXVyMTAxNDE3MTE5._V1_UY67_CR4,0,45,67_AL_.jpg\" width=\"45\"/>\n",
       "</a> </td><td class=\"titleColumn\">\n",
       "<a href=\"/title/tt14439896\" title=\"Rosalind Ross (dir.), Mark Wahlberg, Mel Gibson\">Father Stu</a>\n",
       "</td>\n",
       "<td class=\"ratingColumn\">\n",
       "                            $5.4M\n",
       "                    </td>\n",
       "<td class=\"ratingColumn\">\n",
       "<span class=\"secondaryInfo\">$7.7M</span>\n",
       "</td>\n",
       "<td class=\"weeksColumn\">1</td>\n",
       "<td class=\"watchlistColumn\"><div class=\"wlb_ribbon\" data-tconst=\"tt14439896\"></div></td>\n",
       "</tr>\n",
       "<tr>\n",
       "<td class=\"posterColumn\">\n",
       "<a href=\"/title/tt5108870\"> <img alt=\"Morbius\" height=\"67\" src=\"https://m.media-amazon.com/images/M/MV5BNWExYzEwY2UtZTNhYi00MDRjLTg4YzYtN2QzN2E3MjIwY2Q5XkEyXkFqcGdeQXVyMDA4NzMyOA@@._V1_UY67_CR0,0,45,67_AL_.jpg\" width=\"45\"/>\n",
       "</a> </td><td class=\"titleColumn\">\n",
       "<a href=\"/title/tt5108870\" title=\"Daniel Espinosa (dir.), Jared Leto, Matt Smith\">Morbius</a>\n",
       "</td>\n",
       "<td class=\"ratingColumn\">\n",
       "                            $4.7M\n",
       "                    </td>\n",
       "<td class=\"ratingColumn\">\n",
       "<span class=\"secondaryInfo\">$65.1M</span>\n",
       "</td>\n",
       "<td class=\"weeksColumn\">3</td>\n",
       "<td class=\"watchlistColumn\"><div class=\"wlb_ribbon\" data-tconst=\"tt5108870\"></div></td>\n",
       "</tr>\n",
       "<tr>\n",
       "<td class=\"posterColumn\">\n",
       "<a href=\"/title/tt4998632\"> <img alt=\"Ambulance\" height=\"67\" src=\"https://m.media-amazon.com/images/M/MV5BYjUyN2VlZGEtNGEyZC00YjViLTgwYmQtZDJiM2FlOTU3Mjg2XkEyXkFqcGdeQXVyMjMxOTE0ODA@._V1_UX45_CR0,0,45,67_AL_.jpg\" width=\"45\"/>\n",
       "</a> </td><td class=\"titleColumn\">\n",
       "<a href=\"/title/tt4998632\" title=\"Michael Bay (dir.), Jake Gyllenhaal, Yahya Abdul-Mateen II\">Ambulance</a>\n",
       "</td>\n",
       "<td class=\"ratingColumn\">\n",
       "                            $4.1M\n",
       "                    </td>\n",
       "<td class=\"ratingColumn\">\n",
       "<span class=\"secondaryInfo\">$15.7M</span>\n",
       "</td>\n",
       "<td class=\"weeksColumn\">2</td>\n",
       "<td class=\"watchlistColumn\"><div class=\"wlb_ribbon\" data-tconst=\"tt4998632\"></div></td>\n",
       "</tr>\n",
       "<tr>\n",
       "<td class=\"posterColumn\">\n",
       "<a href=\"/title/tt1877830\"> <img alt=\"The Batman\" height=\"67\" src=\"https://m.media-amazon.com/images/M/MV5BMDdmMTBiNTYtMDIzNi00NGVlLWIzMDYtZTk3MTQ3NGQxZGEwXkEyXkFqcGdeQXVyMzMwOTU5MDk@._V1_UY67_CR0,0,45,67_AL_.jpg\" width=\"45\"/>\n",
       "</a> </td><td class=\"titleColumn\">\n",
       "<a href=\"/title/tt1877830\" title=\"Matt Reeves (dir.), Robert Pattinson, Zoë Kravitz\">The Batman</a>\n",
       "</td>\n",
       "<td class=\"ratingColumn\">\n",
       "                            $3.8M\n",
       "                    </td>\n",
       "<td class=\"ratingColumn\">\n",
       "<span class=\"secondaryInfo\">$365.0M</span>\n",
       "</td>\n",
       "<td class=\"weeksColumn\">7</td>\n",
       "<td class=\"watchlistColumn\"><div class=\"wlb_ribbon\" data-tconst=\"tt1877830\"></div></td>\n",
       "</tr>\n",
       "<tr>\n",
       "<td class=\"posterColumn\">\n",
       "<a href=\"/title/tt10698680\"> <img alt=\"K.G.F: Chapter 2\" height=\"67\" src=\"https://m.media-amazon.com/images/M/MV5BMjMwMDgyOGQtMWZjNC00MDUwLTllZDYtZWM3NDBmN2YzNGZmXkEyXkFqcGdeQXVyMTQzNjkzMzEw._V1_UY67_CR0,0,45,67_AL_.jpg\" width=\"45\"/>\n",
       "</a> </td><td class=\"titleColumn\">\n",
       "<a href=\"/title/tt10698680\" title=\"Prashanth Neel (dir.), Yash, Sanjay Dutt\">K.G.F: Chapter 2</a>\n",
       "</td>\n",
       "<td class=\"ratingColumn\">\n",
       "                            $2.9M\n",
       "                    </td>\n",
       "<td class=\"ratingColumn\">\n",
       "<span class=\"secondaryInfo\">$2.9M</span>\n",
       "</td>\n",
       "<td class=\"weeksColumn\">1</td>\n",
       "<td class=\"watchlistColumn\"><div class=\"wlb_ribbon\" data-tconst=\"tt10698680\"></div></td>\n",
       "</tr>\n",
       "<tr>\n",
       "<td class=\"posterColumn\">\n",
       "<a href=\"/title/tt1464335\"> <img alt=\"Uncharted\" height=\"67\" src=\"https://m.media-amazon.com/images/M/MV5BMWEwNjhkYzYtNjgzYy00YTY2LThjYWYtYzViMGJkZTI4Y2MyXkEyXkFqcGdeQXVyNTM0OTY1OQ@@._V1_UY67_CR0,0,45,67_AL_.jpg\" width=\"45\"/>\n",
       "</a> </td><td class=\"titleColumn\">\n",
       "<a href=\"/title/tt1464335\" title=\"Ruben Fleischer (dir.), Tom Holland, Mark Wahlberg\">Uncharted</a>\n",
       "</td>\n",
       "<td class=\"ratingColumn\">\n",
       "                            $1.2M\n",
       "                    </td>\n",
       "<td class=\"ratingColumn\">\n",
       "<span class=\"secondaryInfo\">$145.0M</span>\n",
       "</td>\n",
       "<td class=\"weeksColumn\">9</td>\n",
       "<td class=\"watchlistColumn\"><div class=\"wlb_ribbon\" data-tconst=\"tt1464335\"></div></td>\n",
       "</tr>\n",
       "</tbody>"
      ]
     },
     "execution_count": 6,
     "metadata": {},
     "output_type": "execute_result"
    }
   ],
   "source": [
    "target"
   ]
  },
  {
   "cell_type": "code",
   "execution_count": null,
   "metadata": {},
   "outputs": [],
   "source": []
  }
 ],
 "metadata": {
  "interpreter": {
   "hash": "2fd9cc27d9bf4d20671b5b4c540425e6506e6451922df5de5e3faf06e0a14a94"
  },
  "kernelspec": {
   "display_name": "Python 3.9.10 ('base')",
   "language": "python",
   "name": "python3"
  },
  "language_info": {
   "codemirror_mode": {
    "name": "ipython",
    "version": 3
   },
   "file_extension": ".py",
   "mimetype": "text/x-python",
   "name": "python",
   "nbconvert_exporter": "python",
   "pygments_lexer": "ipython3",
   "version": "3.9.10"
  },
  "orig_nbformat": 4
 },
 "nbformat": 4,
 "nbformat_minor": 2
}
