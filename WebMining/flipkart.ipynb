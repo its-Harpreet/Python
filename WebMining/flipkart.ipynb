{
 "cells": [
  {
   "cell_type": "code",
   "execution_count": 1,
   "metadata": {},
   "outputs": [],
   "source": [
    "import requests\n",
    "import pandas as pd\n",
    "from bs4 import BeautifulSoup"
   ]
  },
  {
   "cell_type": "code",
   "execution_count": 2,
   "metadata": {},
   "outputs": [
    {
     "ename": "NameError",
     "evalue": "name 'speaker' is not defined",
     "output_type": "error",
     "traceback": [
      "\u001b[1;31m---------------------------------------------------------------------------\u001b[0m",
      "\u001b[1;31mNameError\u001b[0m                                 Traceback (most recent call last)",
      "\u001b[1;32md:\\Python\\WebMining\\flipkart.ipynb Cell 2'\u001b[0m in \u001b[0;36m<module>\u001b[1;34m\u001b[0m\n\u001b[1;32m----> <a href='vscode-notebook-cell:/d%3A/Python/WebMining/flipkart.ipynb#ch0000001?line=0'>1</a>\u001b[0m query\u001b[39m=\u001b[39mspeaker\n\u001b[0;32m      <a href='vscode-notebook-cell:/d%3A/Python/WebMining/flipkart.ipynb#ch0000001?line=1'>2</a>\u001b[0m page\u001b[39m=\u001b[39m\u001b[39m1\u001b[39m\n\u001b[0;32m      <a href='vscode-notebook-cell:/d%3A/Python/WebMining/flipkart.ipynb#ch0000001?line=5'>6</a>\u001b[0m link \u001b[39m=\u001b[39m \u001b[39mf\u001b[39m\u001b[39m'\u001b[39m\u001b[39mhttps://www.flipkart.com/search?q=\u001b[39m\u001b[39m{\u001b[39;00mquery\u001b[39m}\u001b[39;00m\u001b[39m&page=\u001b[39m\u001b[39m{\u001b[39;00mpage\u001b[39m}\u001b[39;00m\u001b[39m'\u001b[39m\n",
      "\u001b[1;31mNameError\u001b[0m: name 'speaker' is not defined"
     ]
    }
   ],
   "source": [
    "query=speaker\n",
    "page=1\n",
    "\n",
    "\n",
    "\n",
    "link = f'https://www.flipkart.com/search?q={query}&page={page}'"
   ]
  },
  {
   "cell_type": "code",
   "execution_count": null,
   "metadata": {},
   "outputs": [],
   "source": [
    "def getpage(link):\n",
    "    try:\n",
    "        page = requests.get(link)\n",
    "        print('data loaded')\n",
    "        return BeautifulSoup(page.text,'lxml')\n",
    "    except Exception as error:\n",
    "        print('Error',error)"
   ]
  },
  {
   "cell_type": "code",
   "execution_count": 3,
   "metadata": {},
   "outputs": [],
   "source": [
    "def extract(pagedata):\n",
    "    cards =  soup.find_all('div',{'class':'_4ddWXP'})\n",
    "    size = len(cards)\n",
    "    if size > 0: # if products are found\n",
    "        for pr in cards: # pr is single product\n",
    "            name = pr.find('a',{'class':'s1Q9rs'}).text\n",
    "            price = pr.find('div',{'class':'_30jeq3'}).text[1:] # start from 2 char\n",
    "            try: \n",
    "                rating = pr.find('div',{'class':'_3LWZlK'}).text\n",
    "            except:\n",
    "                rating = 0\n",
    "            datalist.append({\n",
    "                'name':name,\n",
    "                'price':price,\n",
    "                'rating':rating\n",
    "            })\n",
    "        return True\n",
    "    else:\n",
    "        print('no product found')\n",
    "        return False"
   ]
  },
  {
   "cell_type": "code",
   "execution_count": 4,
   "metadata": {},
   "outputs": [],
   "source": [
    "def save(filename):\n",
    "    df = pd.DataFrame(datalist)\n",
    "    df.to_csv(f'{filename}.csv')\n",
    "    return df\n",
    "    print('saved')"
   ]
  },
  {
   "cell_type": "code",
   "execution_count": 5,
   "metadata": {},
   "outputs": [
    {
     "name": "stdout",
     "output_type": "stream",
     "text": [
      "extracting data from page : 1\n"
     ]
    },
    {
     "ename": "NameError",
     "evalue": "name 'getpage' is not defined",
     "output_type": "error",
     "traceback": [
      "\u001b[1;31m---------------------------------------------------------------------------\u001b[0m",
      "\u001b[1;31mNameError\u001b[0m                                 Traceback (most recent call last)",
      "\u001b[1;32md:\\Python\\WebMining\\flipkart.ipynb Cell 6'\u001b[0m in \u001b[0;36m<module>\u001b[1;34m\u001b[0m\n\u001b[0;32m      <a href='vscode-notebook-cell:/d%3A/Python/WebMining/flipkart.ipynb#ch0000005?line=4'>5</a>\u001b[0m link \u001b[39m=\u001b[39m \u001b[39mf\u001b[39m\u001b[39m'\u001b[39m\u001b[39mhttps://www.flipkart.com/search?q=\u001b[39m\u001b[39m{\u001b[39;00mquery\u001b[39m}\u001b[39;00m\u001b[39m&page=\u001b[39m\u001b[39m{\u001b[39;00mpage\u001b[39m}\u001b[39;00m\u001b[39m'\u001b[39m\n\u001b[0;32m      <a href='vscode-notebook-cell:/d%3A/Python/WebMining/flipkart.ipynb#ch0000005?line=5'>6</a>\u001b[0m \u001b[39mprint\u001b[39m(\u001b[39m'\u001b[39m\u001b[39mextracting data from page :\u001b[39m\u001b[39m'\u001b[39m,page)\n\u001b[1;32m----> <a href='vscode-notebook-cell:/d%3A/Python/WebMining/flipkart.ipynb#ch0000005?line=6'>7</a>\u001b[0m soup \u001b[39m=\u001b[39m getpage(link)\n\u001b[0;32m      <a href='vscode-notebook-cell:/d%3A/Python/WebMining/flipkart.ipynb#ch0000005?line=7'>8</a>\u001b[0m \u001b[39mif\u001b[39;00m soup:                                \u001b[39m# if we get page data\u001b[39;00m\n\u001b[0;32m      <a href='vscode-notebook-cell:/d%3A/Python/WebMining/flipkart.ipynb#ch0000005?line=8'>9</a>\u001b[0m     status \u001b[39m=\u001b[39m  extract(soup)\n",
      "\u001b[1;31mNameError\u001b[0m: name 'getpage' is not defined"
     ]
    }
   ],
   "source": [
    "page = 1\n",
    "query = 'speakers'\n",
    "datalist = [] # empty\n",
    "while True:\n",
    "    link = f'https://www.flipkart.com/search?q={query}&page={page}'\n",
    "    print('extracting data from page :',page)\n",
    "    soup = getpage(link)\n",
    "    if soup:                                # if we get page data\n",
    "        status =  extract(soup)\n",
    "        if not status:\n",
    "            print('products extracted')\n",
    "            break\n",
    "        else:\n",
    "            page += 1"
   ]
  },
  {
   "cell_type": "code",
   "execution_count": 6,
   "metadata": {},
   "outputs": [],
   "source": [
    "out = save('flipkart_speaker_prices')"
   ]
  },
  {
   "cell_type": "code",
   "execution_count": null,
   "metadata": {},
   "outputs": [],
   "source": []
  }
 ],
 "metadata": {
  "interpreter": {
   "hash": "2fd9cc27d9bf4d20671b5b4c540425e6506e6451922df5de5e3faf06e0a14a94"
  },
  "kernelspec": {
   "display_name": "Python 3.9.10 ('base')",
   "language": "python",
   "name": "python3"
  },
  "language_info": {
   "codemirror_mode": {
    "name": "ipython",
    "version": 3
   },
   "file_extension": ".py",
   "mimetype": "text/x-python",
   "name": "python",
   "nbconvert_exporter": "python",
   "pygments_lexer": "ipython3",
   "version": "3.9.10"
  },
  "orig_nbformat": 4
 },
 "nbformat": 4,
 "nbformat_minor": 2
}
