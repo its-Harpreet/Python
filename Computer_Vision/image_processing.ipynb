{
 "cells": [
  {
   "cell_type": "markdown",
   "metadata": {},
   "source": [
    "Installing Library\n",
    "\n",
    "\n",
    "pip install opencv-contrib-python pillow"
   ]
  },
  {
   "cell_type": "code",
   "execution_count": 1,
   "metadata": {},
   "outputs": [],
   "source": [
    "import cv2"
   ]
  },
  {
   "cell_type": "code",
   "execution_count": 2,
   "metadata": {},
   "outputs": [
    {
     "data": {
      "text/plain": [
       "array([[[214, 210, 209],\n",
       "        [214, 210, 209],\n",
       "        [214, 210, 209],\n",
       "        ...,\n",
       "        [144, 117,  53],\n",
       "        [147, 118,  57],\n",
       "        [149, 120,  59]],\n",
       "\n",
       "       [[214, 210, 209],\n",
       "        [214, 210, 209],\n",
       "        [214, 210, 209],\n",
       "        ...,\n",
       "        [145, 118,  54],\n",
       "        [147, 118,  57],\n",
       "        [148, 119,  58]],\n",
       "\n",
       "       [[214, 210, 209],\n",
       "        [214, 210, 209],\n",
       "        [214, 210, 209],\n",
       "        ...,\n",
       "        [147, 118,  57],\n",
       "        [147, 118,  57],\n",
       "        [147, 118,  57]],\n",
       "\n",
       "       ...,\n",
       "\n",
       "       [[214, 212, 211],\n",
       "        [214, 212, 211],\n",
       "        [214, 212, 211],\n",
       "        ...,\n",
       "        [202, 197, 194],\n",
       "        [202, 197, 194],\n",
       "        [202, 197, 194]],\n",
       "\n",
       "       [[214, 212, 211],\n",
       "        [214, 212, 211],\n",
       "        [214, 212, 211],\n",
       "        ...,\n",
       "        [203, 198, 195],\n",
       "        [202, 197, 194],\n",
       "        [202, 197, 194]],\n",
       "\n",
       "       [[214, 212, 211],\n",
       "        [214, 212, 211],\n",
       "        [214, 212, 211],\n",
       "        ...,\n",
       "        [203, 198, 195],\n",
       "        [202, 197, 194],\n",
       "        [202, 197, 194]]], dtype=uint8)"
      ]
     },
     "execution_count": 2,
     "metadata": {},
     "output_type": "execute_result"
    }
   ],
   "source": [
    "cv2.imread('tree.jpg')"
   ]
  },
  {
   "cell_type": "code",
   "execution_count": 3,
   "metadata": {},
   "outputs": [
    {
     "name": "stdout",
     "output_type": "stream",
     "text": [
      "(6000, 4000, 3)\n"
     ]
    }
   ],
   "source": [
    "im1=cv2.imread('tree.jpg')\n",
    "print(im1.shape)\n"
   ]
  },
  {
   "cell_type": "code",
   "execution_count": 20,
   "metadata": {},
   "outputs": [],
   "source": [
    "cv2.imshow('image window',im1)\n",
    "cv2.waitKey(0)\n",
    "cv2.destroyAllWindows()\n",
    "\n"
   ]
  },
  {
   "cell_type": "code",
   "execution_count": 7,
   "metadata": {},
   "outputs": [
    {
     "data": {
      "text/plain": [
       "(1276, 1920, 3)"
      ]
     },
     "execution_count": 7,
     "metadata": {},
     "output_type": "execute_result"
    }
   ],
   "source": [
    "im2=cv2.imread('cock.png')\n",
    "im2.shape\n",
    "\n"
   ]
  },
  {
   "cell_type": "code",
   "execution_count": 23,
   "metadata": {},
   "outputs": [],
   "source": [
    "cv2.cvtColor(im2,cv2.COLOR_BGR2GRAY)\n",
    "cv2.imshow('image window',im2)\n",
    "cv2.waitKey(0)\n",
    "cv2.destroyAllWindows()"
   ]
  },
  {
   "cell_type": "code",
   "execution_count": 22,
   "metadata": {},
   "outputs": [],
   "source": [
    "cv2.resize(im2,(0,0),fx=0.5,fy=0.5)"
   ]
  },
  {
   "cell_type": "code",
   "execution_count": 19,
   "metadata": {},
   "outputs": [],
   "source": [
    "cv2.resize(im1,(0,0),fx=0.5,fy=0.5)"
   ]
  },
  {
   "cell_type": "markdown",
   "metadata": {},
   "source": [
    "WEB CAM"
   ]
  },
  {
   "cell_type": "markdown",
   "metadata": {},
   "source": []
  },
  {
   "cell_type": "code",
   "execution_count": 25,
   "metadata": {},
   "outputs": [
    {
     "ename": "error",
     "evalue": "OpenCV(4.5.5) D:\\a\\opencv-python\\opencv-python\\opencv\\modules\\imgproc\\src\\color.cpp:182: error: (-215:Assertion failed) !_src.empty() in function 'cv::cvtColor'\n",
     "output_type": "error",
     "traceback": [
      "\u001b[1;31m---------------------------------------------------------------------------\u001b[0m",
      "\u001b[1;31merror\u001b[0m                                     Traceback (most recent call last)",
      "\u001b[1;32md:\\Python\\Computer_Vision\\image_processing.ipynb Cell 12'\u001b[0m in \u001b[0;36m<module>\u001b[1;34m\u001b[0m\n\u001b[0;32m      <a href='vscode-notebook-cell:/d%3A/Python/Computer_Vision/image_processing.ipynb#ch0000009?line=1'>2</a>\u001b[0m \u001b[39mwhile\u001b[39;00m \u001b[39mTrue\u001b[39;00m:\n\u001b[0;32m      <a href='vscode-notebook-cell:/d%3A/Python/Computer_Vision/image_processing.ipynb#ch0000009?line=2'>3</a>\u001b[0m     status,frame\u001b[39m=\u001b[39mcam\u001b[39m.\u001b[39mread()\n\u001b[1;32m----> <a href='vscode-notebook-cell:/d%3A/Python/Computer_Vision/image_processing.ipynb#ch0000009?line=3'>4</a>\u001b[0m     cv2\u001b[39m.\u001b[39;49mimshow(\u001b[39m'\u001b[39;49m\u001b[39mframe\u001b[39;49m\u001b[39m'\u001b[39;49m,frame)\n\u001b[0;32m      <a href='vscode-notebook-cell:/d%3A/Python/Computer_Vision/image_processing.ipynb#ch0000009?line=4'>5</a>\u001b[0m     \u001b[39mif\u001b[39;00m cv2\u001b[39m.\u001b[39mwaitKey(\u001b[39m1\u001b[39m)\u001b[39m==\u001b[39m\u001b[39m27\u001b[39m:\n\u001b[0;32m      <a href='vscode-notebook-cell:/d%3A/Python/Computer_Vision/image_processing.ipynb#ch0000009?line=5'>6</a>\u001b[0m         \u001b[39mbreak\u001b[39;00m\n",
      "\u001b[1;31merror\u001b[0m: OpenCV(4.5.5) D:\\a\\opencv-python\\opencv-python\\opencv\\modules\\imgproc\\src\\color.cpp:182: error: (-215:Assertion failed) !_src.empty() in function 'cv::cvtColor'\n"
     ]
    }
   ],
   "source": [
    "cam=cv2.VideoCapture(0)\n",
    "while True:\n",
    "    status,frame=cam.read()\n",
    "    cv2.imshow('frame',frame)\n",
    "    if cv2.waitKey(1)==27:\n",
    "        break\n",
    "cam.release()\n",
    "cv2.destroyAllWindows()"
   ]
  },
  {
   "cell_type": "code",
   "execution_count": null,
   "metadata": {},
   "outputs": [],
   "source": []
  }
 ],
 "metadata": {
  "interpreter": {
   "hash": "2fd9cc27d9bf4d20671b5b4c540425e6506e6451922df5de5e3faf06e0a14a94"
  },
  "kernelspec": {
   "display_name": "Python 3.9.10 ('base')",
   "language": "python",
   "name": "python3"
  },
  "language_info": {
   "codemirror_mode": {
    "name": "ipython",
    "version": 3
   },
   "file_extension": ".py",
   "mimetype": "text/x-python",
   "name": "python",
   "nbconvert_exporter": "python",
   "pygments_lexer": "ipython3",
   "version": "3.9.10"
  },
  "orig_nbformat": 4
 },
 "nbformat": 4,
 "nbformat_minor": 2
}
