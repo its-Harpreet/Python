{
 "cells": [
  {
   "cell_type": "code",
   "execution_count": 2,
   "metadata": {},
   "outputs": [
    {
     "name": "stdout",
     "output_type": "stream",
     "text": [
      "Don't Buy Apples\n"
     ]
    }
   ],
   "source": [
    "q=input (\"Do you like Aplles?\")\n",
    "if q=='yes':\n",
    "    print(\"Buy Apples\")\n",
    "if q=='no':\n",
    "    print(\"Don't Buy Apples\")\n"
   ]
  },
  {
   "cell_type": "code",
   "execution_count": 9,
   "metadata": {},
   "outputs": [
    {
     "name": "stdout",
     "output_type": "stream",
     "text": [
      "X is greater than 10\n",
      "Love YOU\n",
      "THE END\n"
     ]
    }
   ],
   "source": [
    "x=int(input(\"Enter a Number\"))\n",
    "if x > 10:\n",
    "    print(\"X is greater than 10\")\n",
    "    print(\"Love YOU\")\n",
    "print(\"THE END\")\n"
   ]
  },
  {
   "cell_type": "code",
   "execution_count": 12,
   "metadata": {},
   "outputs": [
    {
     "name": "stdout",
     "output_type": "stream",
     "text": [
      "Wear Shorts at Office\n",
      "Be on Time\n"
     ]
    }
   ],
   "source": [
    "temp=float(input(\"Enter Temperature of your Area\"))\n",
    "if temp >= 31:\n",
    "    print(\"Wear Shorts at Office\")\n",
    "else:\n",
    "    print(\"Wear Chinos\")\n",
    "print(\"Be on Time\")"
   ]
  },
  {
   "cell_type": "code",
   "execution_count": 18,
   "metadata": {},
   "outputs": [
    {
     "name": "stdout",
     "output_type": "stream",
     "text": [
      "Grade A\n",
      "Regards,\n",
      "Principal\n"
     ]
    }
   ],
   "source": [
    "score=int(input(\"Enter Your Marks\"))    \n",
    "if score >= 90:\n",
    "    print(\"Grade A\")\n",
    "elif score >=80:\n",
    "    print(\"Grade B\")\n",
    "else:\n",
    "    print(\"Grade C\")\n",
    "print('''Regards''')"
   ]
  },
  {
   "cell_type": "code",
   "execution_count": 19,
   "metadata": {},
   "outputs": [
    {
     "name": "stdout",
     "output_type": "stream",
     "text": [
      "42\n"
     ]
    }
   ],
   "source": [
    "if 42 in range(50): print(\"42\")"
   ]
  },
  {
   "cell_type": "code",
   "execution_count": 21,
   "metadata": {},
   "outputs": [
    {
     "name": "stdout",
     "output_type": "stream",
     "text": [
      "BOB\n"
     ]
    }
   ],
   "source": [
    "x=\"Alice\" if \"Prince\" in \"My name is Jonas\" else \"BOB\"\n",
    "print (x) "
   ]
  },
  {
   "cell_type": "code",
   "execution_count": 22,
   "metadata": {},
   "outputs": [
    {
     "name": "stdout",
     "output_type": "stream",
     "text": [
      "Blue\n"
     ]
    }
   ],
   "source": [
    "print(\"Yellow\") if \"y\" in \"Green\" else print(\"Blue\")"
   ]
  },
  {
   "cell_type": "code",
   "execution_count": null,
   "metadata": {},
   "outputs": [],
   "source": [
    "print(\"Oh! Yeah\") if 42 in []"
   ]
  }
 ],
 "metadata": {
  "interpreter": {
   "hash": "2fd9cc27d9bf4d20671b5b4c540425e6506e6451922df5de5e3faf06e0a14a94"
  },
  "kernelspec": {
   "display_name": "Python 3.9.10 64-bit ('base': conda)",
   "language": "python",
   "name": "python3"
  },
  "language_info": {
   "codemirror_mode": {
    "name": "ipython",
    "version": 3
   },
   "file_extension": ".py",
   "mimetype": "text/x-python",
   "name": "python",
   "nbconvert_exporter": "python",
   "pygments_lexer": "ipython3",
   "version": "3.9.10"
  },
  "orig_nbformat": 4
 },
 "nbformat": 4,
 "nbformat_minor": 2
}
