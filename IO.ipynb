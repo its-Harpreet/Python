{
 "cells": [
  {
   "cell_type": "code",
   "execution_count": 1,
   "metadata": {},
   "outputs": [],
   "source": [
    "x=89\n",
    "y=89.90\n",
    "z='Apples'"
   ]
  },
  {
   "cell_type": "code",
   "execution_count": 3,
   "metadata": {},
   "outputs": [
    {
     "data": {
      "text/plain": [
       "89"
      ]
     },
     "execution_count": 3,
     "metadata": {},
     "output_type": "execute_result"
    }
   ],
   "source": [
    "x #Raw format"
   ]
  },
  {
   "cell_type": "code",
   "execution_count": 4,
   "metadata": {},
   "outputs": [
    {
     "data": {
      "text/plain": [
       "'Apples'"
      ]
     },
     "execution_count": 4,
     "metadata": {},
     "output_type": "execute_result"
    }
   ],
   "source": [
    "x\n",
    "y\n",
    "z"
   ]
  },
  {
   "cell_type": "code",
   "execution_count": 7,
   "metadata": {},
   "outputs": [
    {
     "name": "stdout",
     "output_type": "stream",
     "text": [
      "89\n",
      "89.9\n",
      "Apples\n"
     ]
    }
   ],
   "source": [
    "# Formatted Output\n",
    "print(x)\n",
    "print (y)\n",
    "print(z)\n"
   ]
  },
  {
   "cell_type": "code",
   "execution_count": 8,
   "metadata": {},
   "outputs": [
    {
     "name": "stdout",
     "output_type": "stream",
     "text": [
      "89 89.9 Apples\n"
     ]
    }
   ],
   "source": [
    "#Formatted Output\n",
    "print(x,y,z)"
   ]
  },
  {
   "cell_type": "code",
   "execution_count": 10,
   "metadata": {},
   "outputs": [
    {
     "name": "stdout",
     "output_type": "stream",
     "text": [
      "Today it rained\n"
     ]
    }
   ],
   "source": [
    "#Formatted Output\n",
    "print(\"Today it rained\")"
   ]
  },
  {
   "cell_type": "code",
   "execution_count": 14,
   "metadata": {},
   "outputs": [
    {
     "name": "stdout",
     "output_type": "stream",
     "text": [
      "Apples@Banana@Cherry@Dragonfruit\n"
     ]
    }
   ],
   "source": [
    "#SEP Attribute\n",
    "print(\"Apples\",\"Banana\",\"Cherry\",\"Dragonfruit\",sep='@')"
   ]
  },
  {
   "cell_type": "code",
   "execution_count": 13,
   "metadata": {},
   "outputs": [
    {
     "name": "stdout",
     "output_type": "stream",
     "text": [
      "Apples,Banana,Cherry,Dragonfruit\n"
     ]
    }
   ],
   "source": [
    "#SEP Attribute\n",
    "print(\"Apples\",\"Banana\",\"Cherry\",\"Dragonfruit\",sep=',')"
   ]
  },
  {
   "cell_type": "markdown",
   "metadata": {},
   "source": [
    "### How To Display Text Mixed with Variables\n",
    "- comma separated✅\n",
    "- format specifier\n",
    "- using + as concatination\n",
    "- using format()\n",
    "- using f-string(font version 3.6)✅"
   ]
  },
  {
   "cell_type": "code",
   "execution_count": 17,
   "metadata": {},
   "outputs": [],
   "source": [
    "lang=\"Python\"\n",
    "lc='easy'\n",
    "version='3.10'\n",
    "creator='Guido Von Rossum'"
   ]
  },
  {
   "cell_type": "code",
   "execution_count": 34,
   "metadata": {},
   "outputs": [
    {
     "name": "stdout",
     "output_type": "stream",
     "text": [
      "Python is an easy language created by Guido Von Rossum .The current versioin is 3.10 .\n"
     ]
    }
   ],
   "source": [
    "#using Comma Separated\n",
    "print(lang,'is an',lc,'language created by',creator,'.The current versioin is',version,'.')"
   ]
  },
  {
   "cell_type": "code",
   "execution_count": 33,
   "metadata": {},
   "outputs": [
    {
     "name": "stdout",
     "output_type": "stream",
     "text": [
      "Python is an easy language created by Guido Von Rossum.The current version is 3.10.\n"
     ]
    }
   ],
   "source": [
    "#using Format Specifier\n",
    "print('%s is an %s language created by %s.The current version is %s.'%(lang,lc,creator,version))"
   ]
  },
  {
   "cell_type": "code",
   "execution_count": 29,
   "metadata": {},
   "outputs": [
    {
     "name": "stdout",
     "output_type": "stream",
     "text": [
      "Python is an easy language created by Guido Von Rossum. The current version is 3.10.\n"
     ]
    }
   ],
   "source": [
    "#using + as concatination\n",
    "print(lang+\" is an \"+lc+\" language created by \"+creator+\". The current version is \"+version+\".\")"
   ]
  },
  {
   "cell_type": "code",
   "execution_count": 31,
   "metadata": {},
   "outputs": [
    {
     "name": "stdout",
     "output_type": "stream",
     "text": [
      "Python is an easy language created by Guido Von Rossum.The current version is 3.10.\n"
     ]
    }
   ],
   "source": [
    "#using format function\n",
    "print('{} is an {} language created by {}.The current version is {}.'.format(lang,lc,creator,version))"
   ]
  },
  {
   "cell_type": "markdown",
   "metadata": {},
   "source": [
    "The better way to create nad message in python is f-string introduced in version 3.6"
   ]
  },
  {
   "cell_type": "code",
   "execution_count": 32,
   "metadata": {},
   "outputs": [
    {
     "name": "stdout",
     "output_type": "stream",
     "text": [
      "Python is an easy language created by Guido Von Rossum. The current version is 3.10. \n"
     ]
    }
   ],
   "source": [
    "print (f'{lang} is an {lc} language created by {creator}. The current version is {version}. ')"
   ]
  },
  {
   "cell_type": "code",
   "execution_count": 36,
   "metadata": {},
   "outputs": [],
   "source": [
    "a=input('Enter value for a=>') #Value uper box me bharni hai"
   ]
  },
  {
   "cell_type": "code",
   "execution_count": 37,
   "metadata": {},
   "outputs": [
    {
     "name": "stdout",
     "output_type": "stream",
     "text": [
      "Harpreet 21 were given\n",
      "<class 'str'> <class 'str'>\n"
     ]
    }
   ],
   "source": [
    "name =input(\"Enter Your name\")\n",
    "age =input(\"Enter Your Age\")\n",
    "print(name,age,'were given')\n",
    "print(type(name),type(age))"
   ]
  },
  {
   "cell_type": "code",
   "execution_count": 38,
   "metadata": {},
   "outputs": [
    {
     "name": "stdout",
     "output_type": "stream",
     "text": [
      "12\n"
     ]
    }
   ],
   "source": [
    "temp=int(input(\"Enter Temperature in Degree\"))\n",
    "print (temp)"
   ]
  },
  {
   "cell_type": "code",
   "execution_count": null,
   "metadata": {},
   "outputs": [],
   "source": []
  }
 ],
 "metadata": {
  "interpreter": {
   "hash": "2fd9cc27d9bf4d20671b5b4c540425e6506e6451922df5de5e3faf06e0a14a94"
  },
  "kernelspec": {
   "display_name": "Python 3.9.10 64-bit ('base': conda)",
   "language": "python",
   "name": "python3"
  },
  "language_info": {
   "codemirror_mode": {
    "name": "ipython",
    "version": 3
   },
   "file_extension": ".py",
   "mimetype": "text/x-python",
   "name": "python",
   "nbconvert_exporter": "python",
   "pygments_lexer": "ipython3",
   "version": "3.9.10"
  },
  "orig_nbformat": 4
 },
 "nbformat": 4,
 "nbformat_minor": 2
}
