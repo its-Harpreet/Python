{
 "cells": [
  {
   "cell_type": "code",
   "execution_count": 1,
   "metadata": {},
   "outputs": [],
   "source": [
    "import os"
   ]
  },
  {
   "cell_type": "code",
   "execution_count": 1,
   "metadata": {},
   "outputs": [],
   "source": [
    "import sqlite3"
   ]
  },
  {
   "cell_type": "code",
   "execution_count": 2,
   "metadata": {},
   "outputs": [
    {
     "ename": "ModuleNotFoundError",
     "evalue": "No module named 'PIL'",
     "output_type": "error",
     "traceback": [
      "\u001b[1;31m---------------------------------------------------------------------------\u001b[0m",
      "\u001b[1;31mModuleNotFoundError\u001b[0m                       Traceback (most recent call last)",
      "\u001b[1;32md:\\Python\\Pre_Defined_Modules.ipynb Cell 2'\u001b[0m in \u001b[0;36m<module>\u001b[1;34m\u001b[0m\n\u001b[1;32m----> <a href='vscode-notebook-cell:/d%3A/Python/Pre_Defined_Modules.ipynb#ch0000015?line=0'>1</a>\u001b[0m \u001b[39mfrom\u001b[39;00m \u001b[39mPIL\u001b[39;00m \u001b[39mimport\u001b[39;00m image\n",
      "\u001b[1;31mModuleNotFoundError\u001b[0m: No module named 'PIL'"
     ]
    }
   ],
   "source": []
  },
  {
   "cell_type": "markdown",
   "metadata": {},
   "source": [
    "### Display Current directory"
   ]
  },
  {
   "cell_type": "code",
   "execution_count": null,
   "metadata": {},
   "outputs": [],
   "source": []
  },
  {
   "cell_type": "code",
   "execution_count": null,
   "metadata": {},
   "outputs": [
    {
     "data": {
      "text/plain": [
       "'d:\\\\Python'"
      ]
     },
     "execution_count": 3,
     "metadata": {},
     "output_type": "execute_result"
    }
   ],
   "source": [
    "os.getcwd() "
   ]
  },
  {
   "cell_type": "markdown",
   "metadata": {},
   "source": [
    "### Creating a Directory"
   ]
  },
  {
   "cell_type": "code",
   "execution_count": null,
   "metadata": {},
   "outputs": [],
   "source": [
    "os.mkdir(\"codes\")"
   ]
  },
  {
   "cell_type": "code",
   "execution_count": null,
   "metadata": {},
   "outputs": [],
   "source": [
    "if os.path.exists(\"codes\"):\n",
    "    print(\"The Directory Exists\")\n",
    "else:\n",
    "    os.mkdir(\"Codes\")"
   ]
  },
  {
   "cell_type": "markdown",
   "metadata": {},
   "source": [
    "### Getting the List of folders/Directory"
   ]
  },
  {
   "cell_type": "code",
   "execution_count": null,
   "metadata": {},
   "outputs": [
    {
     "data": {
      "text/plain": [
       "['.git',\n",
       " '.gitattributes',\n",
       " 'Basics.ipynb',\n",
       " 'Condition.ipynb',\n",
       " 'Dictionary.ipynb',\n",
       " 'Hello.py',\n",
       " 'Homework.ipynb',\n",
       " 'IO.ipynb',\n",
       " 'List.ipynb',\n",
       " 'List_Advance.ipynb',\n",
       " 'Loop.ipynb',\n",
       " 'Pre_Defined_Library.ipynb',\n",
       " 'Pre_Define_Library.ipynb',\n",
       " 'Set.ipynb',\n",
       " 'String.ipynb',\n",
       " 'Tuple.ipynb']"
      ]
     },
     "execution_count": 8,
     "metadata": {},
     "output_type": "execute_result"
    }
   ],
   "source": [
    "os.listdir()"
   ]
  },
  {
   "cell_type": "code",
   "execution_count": null,
   "metadata": {},
   "outputs": [
    {
     "name": "stdout",
     "output_type": "stream",
     "text": [
      "104 items in directory\n"
     ]
    }
   ],
   "source": [
    "windowContent= os.listdir(\"C:/windows\")\n",
    "print(f\"{len(windowContent)} items in directory\")"
   ]
  },
  {
   "cell_type": "code",
   "execution_count": null,
   "metadata": {},
   "outputs": [],
   "source": [
    "images=os.listdir(\"C://Users/acer/Pictures/Camera Roll\")"
   ]
  },
  {
   "cell_type": "markdown",
   "metadata": {},
   "source": [
    "### Spliting the extention"
   ]
  },
  {
   "cell_type": "code",
   "execution_count": null,
   "metadata": {},
   "outputs": [
    {
     "data": {
      "text/plain": [
       "('desktop', '.ini')"
      ]
     },
     "execution_count": 16,
     "metadata": {},
     "output_type": "execute_result"
    }
   ],
   "source": [
    "os.path.splitext(images[0])"
   ]
  },
  {
   "cell_type": "code",
   "execution_count": null,
   "metadata": {},
   "outputs": [
    {
     "ename": "NameError",
     "evalue": "name 'images' is not defined",
     "output_type": "error",
     "traceback": [
      "\u001b[1;31m---------------------------------------------------------------------------\u001b[0m",
      "\u001b[1;31mNameError\u001b[0m                                 Traceback (most recent call last)",
      "Input \u001b[1;32mIn [1]\u001b[0m, in \u001b[0;36m<module>\u001b[1;34m\u001b[0m\n\u001b[1;32m----> 1\u001b[0m ini_images\u001b[38;5;241m=\u001b[39m[file \u001b[38;5;28;01mfor\u001b[39;00m file \u001b[38;5;129;01min\u001b[39;00m \u001b[43mimages\u001b[49m \u001b[38;5;28;01mif\u001b[39;00m file\u001b[38;5;241m.\u001b[39mendswith(\u001b[38;5;124m\"\u001b[39m\u001b[38;5;124m.ini\u001b[39m\u001b[38;5;124m\"\u001b[39m)]\n\u001b[0;32m      2\u001b[0m \u001b[38;5;28mprint\u001b[39m(ini_images)\n",
      "\u001b[1;31mNameError\u001b[0m: name 'images' is not defined"
     ]
    }
   ],
   "source": [
    "ini_images=[file for file in images if file.endswith(\".ini\")]\n",
    "print(ini_images)"
   ]
  },
  {
   "cell_type": "code",
   "execution_count": null,
   "metadata": {},
   "outputs": [],
   "source": [
    "import requests"
   ]
  },
  {
   "cell_type": "code",
   "execution_count": 2,
   "metadata": {},
   "outputs": [
    {
     "name": "stdout",
     "output_type": "stream",
     "text": [
      "C:\\Program Files/AMD 0.0\n",
      "C:\\Program Files/BraveSoftware 0.0\n",
      "C:\\Program Files/Common Files 0.0\n",
      "C:\\Program Files/desktop.ini 0.169921875\n",
      "C:\\Program Files/DriverSetupUtility 0.0\n",
      "C:\\Program Files/Git 4.0\n",
      "C:\\Program Files/Intel 0.0\n",
      "C:\\Program Files/internet explorer 4.0\n",
      "C:\\Program Files/Java 0.0\n",
      "C:\\Program Files/Microsoft Office 0.0\n",
      "C:\\Program Files/Microsoft Update Health Tools 4.0\n",
      "C:\\Program Files/MSBuild 0.0\n",
      "C:\\Program Files/NetBeans-13 0.0\n",
      "C:\\Program Files/OEM 0.0\n",
      "C:\\Program Files/Reference Assemblies 0.0\n",
      "C:\\Program Files/ruxim 8.0\n",
      "C:\\Program Files/Uninstall Information 0.0\n",
      "C:\\Program Files/UNP 0.0\n",
      "C:\\Program Files/VideoLAN 0.0\n",
      "C:\\Program Files/Windows Defender 4.0\n",
      "C:\\Program Files/Windows Mail 0.0\n",
      "C:\\Program Files/Windows Media Player 4.0\n",
      "C:\\Program Files/Windows Multimedia Platform 0.0\n",
      "C:\\Program Files/windows nt 0.0\n",
      "C:\\Program Files/Windows Photo Viewer 4.0\n",
      "C:\\Program Files/Windows Portable Devices 0.0\n",
      "C:\\Program Files/Windows Security 0.0\n",
      "C:\\Program Files/Windows Sidebar 0.0\n",
      "C:\\Program Files/WindowsApps 0.0\n",
      "C:\\Program Files/WindowsPowerShell 0.0\n",
      "C:\\Program Files/WinRAR 4.0\n"
     ]
    }
   ],
   "source": [
    "##Largest File in Folder\n",
    "import os\n",
    "path=input('Enter Path:')\n",
    "filenames=[]\n",
    "filesizes=[]\n",
    "if os.path.exists(path):\n",
    "    files=os.listdir(path)\n",
    "    for file in files:\n",
    "        filepath=path+'/'+file\n",
    "        size= os.path.getsize(filepath)\n",
    "        filenames.append(file)\n",
    "        filesizes.append(size)\n",
    "        largest=max(filesizes)\n",
    "        index=filesizes.index(largest)\n",
    "        print(filenames[index],largest,'mb')\n",
    "else:\n",
    "    print(\"Path does not exists\")\n"
   ]
  },
  {
   "cell_type": "code",
   "execution_count": null,
   "metadata": {},
   "outputs": [],
   "source": []
  }
 ],
 "metadata": {
  "interpreter": {
   "hash": "2fd9cc27d9bf4d20671b5b4c540425e6506e6451922df5de5e3faf06e0a14a94"
  },
  "kernelspec": {
   "display_name": "Python 3.9.10 ('base')",
   "language": "python",
   "name": "python3"
  },
  "language_info": {
   "codemirror_mode": {
    "name": "ipython",
    "version": 3
   },
   "file_extension": ".py",
   "mimetype": "text/x-python",
   "name": "python",
   "nbconvert_exporter": "python",
   "pygments_lexer": "ipython3",
   "version": "3.9.10"
  },
  "orig_nbformat": 4
 },
 "nbformat": 4,
 "nbformat_minor": 2
}
